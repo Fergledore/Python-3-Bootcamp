{
 "cells": [
  {
   "cell_type": "markdown",
   "metadata": {},
   "source": [
    "### Function:\n",
    "\n",
    "    -Function is a syntax or structure is used to represent bussiness logic to perform the operations.\n",
    "    \n",
    "    -For every function,internally one object is created and that object address will be stored to the function name variable.\n",
    "    \n",
    "    -the address of the function object which is present inside function name variable can be copied into the other variables.\n",
    "    \n",
    "    -Function is not executed automatically.\n",
    "    \n",
    "    -Function will be executed,whenever we make a function call.\n",
    "    \n",
    "    -Function can be called through any variable ,which is stored in the address of the function object."
   ]
  },
  {
   "cell_type": "code",
   "execution_count": 5,
   "metadata": {},
   "outputs": [
    {
     "name": "stdout",
     "output_type": "stream",
     "text": [
      "begin\n",
      "<function myfunc at 0x000001E66FC4DB70>\n",
      "welcome\n",
      "<function myfunc at 0x000001E66FC4DB70>\n",
      "welcome\n",
      "end\n"
     ]
    }
   ],
   "source": [
    "print('begin')\n",
    "def myfunc():\n",
    "    print('welcome')\n",
    "print(myfunc)\n",
    "myfunc()\n",
    "myvar= myfunc\n",
    "print(myvar)\n",
    "myvar()\n",
    "print('end')"
   ]
  },
  {
   "cell_type": "code",
   "execution_count": null,
   "metadata": {},
   "outputs": [],
   "source": [
    "def functionname(var1,var2,......varn):   #var1,var2,varn => parameters\n",
    "    \"\"\"doc str\"\"\"\n",
    "    #some bussiness logic\n",
    "    [return value]"
   ]
  },
  {
   "cell_type": "markdown",
   "metadata": {},
   "source": [
    "### Parameters\n",
    "    -the variables which are declared within the function decleration are knwon as parameters.\n",
    "    \n",
    "    -Parameters of a function ,can be accessed only within that function.\n",
    "    \n",
    "    -We can define three types of parameters for the functions in Python language.\n",
    "    \n",
    "#### 1) Non-default Parameters\n",
    "\n",
    "#### 2) Default Parameters\n",
    "\n",
    "#### 3) Arbitary Parameters\n"
   ]
  },
  {
   "cell_type": "markdown",
   "metadata": {},
   "source": [
    "#### Non-default Parameters:\n",
    "\n",
    "     -The parameters which are declared ,without assigning any values are known as non-default.\n",
    "     \n",
    "     -At the time of calling the function,we should pass the values to the non default parameters,otherwise,we'll get the error."
   ]
  },
  {
   "cell_type": "code",
   "execution_count": 6,
   "metadata": {},
   "outputs": [
    {
     "name": "stdout",
     "output_type": "stream",
     "text": [
      "600\n",
      "3000\n",
      "579\n"
     ]
    }
   ],
   "source": [
    "def add(a,b):\n",
    "    c=a+b\n",
    "    print(c)\n",
    "add(100,500)\n",
    "add(1000,2000)\n",
    "add(123,456)"
   ]
  },
  {
   "cell_type": "markdown",
   "metadata": {},
   "source": [
    "### Default Parameters:\n",
    "       \n",
    "       -The Parameters ,which are declared ,by assigning some values ,are known as default parameters.\n",
    "       \n",
    "       -At the time of calling the function,we need not to pass the values to the default parameters."
   ]
  },
  {
   "cell_type": "code",
   "execution_count": 7,
   "metadata": {},
   "outputs": [
    {
     "name": "stdout",
     "output_type": "stream",
     "text": [
      "30\n",
      "3000\n",
      "579\n"
     ]
    }
   ],
   "source": [
    "def add(a=10,b=20):\n",
    "    c=a+b\n",
    "    print(c)\n",
    "add()\n",
    "add(1000,2000)\n",
    "add(123,456)"
   ]
  },
  {
   "cell_type": "code",
   "execution_count": 8,
   "metadata": {},
   "outputs": [
    {
     "name": "stdout",
     "output_type": "stream",
     "text": [
      "1020\n",
      "579\n"
     ]
    }
   ],
   "source": [
    "def add(a,b=20):\n",
    "    c=a+b\n",
    "    print(c)\n",
    "\n",
    "add(1000)\n",
    "add(123,456)"
   ]
  },
  {
   "cell_type": "markdown",
   "metadata": {},
   "source": [
    "#### After defining the default parameters,we are not allowed to define non-default parameters,other-wise we'll get syntax error"
   ]
  },
  {
   "cell_type": "code",
   "execution_count": 9,
   "metadata": {},
   "outputs": [
    {
     "ename": "SyntaxError",
     "evalue": "non-default argument follows default argument (<ipython-input-9-cbf55b4f94cc>, line 1)",
     "output_type": "error",
     "traceback": [
      "\u001b[1;36m  File \u001b[1;32m\"<ipython-input-9-cbf55b4f94cc>\"\u001b[1;36m, line \u001b[1;32m1\u001b[0m\n\u001b[1;33m    def add(a=10,b):\u001b[0m\n\u001b[1;37m           ^\u001b[0m\n\u001b[1;31mSyntaxError\u001b[0m\u001b[1;31m:\u001b[0m non-default argument follows default argument\n"
     ]
    }
   ],
   "source": [
    "def add(a=10,b):\n",
    "    c=a+b\n",
    "    print(c)\n",
    "\n",
    "add(1000)\n",
    "add(123,456)"
   ]
  },
  {
   "cell_type": "markdown",
   "metadata": {},
   "source": [
    "### Arbitary Parameters:\n",
    "\n",
    "    -Any parameter,which is preceded by single-star(\"*\") or multi-star is known as a Arbitary parameter.\n",
    "    \n",
    "    -Single-star arbitary parameter parameter type ,is taken as a 'Tuple'.\n",
    "    \n",
    "    -At the time of calling the function ,we can pass zero or more values to the 'single-star' arbitary parameter."
   ]
  },
  {
   "cell_type": "code",
   "execution_count": 11,
   "metadata": {},
   "outputs": [
    {
     "name": "stdout",
     "output_type": "stream",
     "text": [
      "()\n",
      "<class 'tuple'>\n",
      "0\n",
      "0\n",
      "(1000,)\n",
      "<class 'tuple'>\n",
      "1\n",
      "1000\n",
      "(123, 456)\n",
      "<class 'tuple'>\n",
      "2\n",
      "579\n"
     ]
    }
   ],
   "source": [
    "def add(*a):\n",
    "    print(a)\n",
    "    print(type(a))\n",
    "    print(len(a))\n",
    "    s=0\n",
    "    for p in a:\n",
    "        s=s+p\n",
    "    print(s)\n",
    "add()\n",
    "add(1000)\n",
    "add(123,456)"
   ]
  },
  {
   "cell_type": "code",
   "execution_count": 1,
   "metadata": {},
   "outputs": [
    {
     "ename": "TypeError",
     "evalue": "myfunc() missing 1 required keyword-only argument: 'b'",
     "output_type": "error",
     "traceback": [
      "\u001b[1;31m---------------------------------------------------------------------------\u001b[0m",
      "\u001b[1;31mTypeError\u001b[0m                                 Traceback (most recent call last)",
      "\u001b[1;32m<ipython-input-1-47fe8b7e9538>\u001b[0m in \u001b[0;36m<module>\u001b[1;34m()\u001b[0m\n\u001b[0;32m      2\u001b[0m     \u001b[0mprint\u001b[0m\u001b[1;33m(\u001b[0m\u001b[0ma\u001b[0m\u001b[1;33m)\u001b[0m\u001b[1;33m\u001b[0m\u001b[0m\n\u001b[0;32m      3\u001b[0m     \u001b[0mprint\u001b[0m\u001b[1;33m(\u001b[0m\u001b[0mb\u001b[0m\u001b[1;33m)\u001b[0m\u001b[1;33m\u001b[0m\u001b[0m\n\u001b[1;32m----> 4\u001b[1;33m \u001b[0mmyfunc\u001b[0m\u001b[1;33m(\u001b[0m\u001b[1;36m10\u001b[0m\u001b[1;33m,\u001b[0m\u001b[1;36m20\u001b[0m\u001b[1;33m,\u001b[0m\u001b[1;36m30\u001b[0m\u001b[1;33m,\u001b[0m\u001b[1;36m40\u001b[0m\u001b[1;33m)\u001b[0m\u001b[1;33m\u001b[0m\u001b[0m\n\u001b[0m",
      "\u001b[1;31mTypeError\u001b[0m: myfunc() missing 1 required keyword-only argument: 'b'"
     ]
    }
   ],
   "source": [
    "def myfunc(*a,b):\n",
    "    print(a)\n",
    "    print(b)\n",
    "myfunc(10,20,30,40)"
   ]
  },
  {
   "cell_type": "code",
   "execution_count": 2,
   "metadata": {},
   "outputs": [
    {
     "name": "stdout",
     "output_type": "stream",
     "text": [
      "10\n",
      "(20, 30, 40)\n"
     ]
    }
   ],
   "source": [
    "def myfunc(a,*b):\n",
    "    print(a)\n",
    "    print(b)\n",
    "myfunc(10,20,30,40)"
   ]
  },
  {
   "cell_type": "code",
   "execution_count": 3,
   "metadata": {},
   "outputs": [
    {
     "name": "stdout",
     "output_type": "stream",
     "text": [
      "(10, 20, 30, 40)\n",
      "100\n"
     ]
    }
   ],
   "source": [
    "def myfunc(*a,b=100):\n",
    "    print(a)\n",
    "    print(b)\n",
    "myfunc(10,20,30,40)"
   ]
  },
  {
   "cell_type": "markdown",
   "metadata": {},
   "source": [
    "### Multi-Star arbitary Parameter:\n",
    "\n",
    "    -Multi-star arbitary parameter type is taken as a 'dictionary'"
   ]
  },
  {
   "cell_type": "code",
   "execution_count": 4,
   "metadata": {},
   "outputs": [
    {
     "name": "stdout",
     "output_type": "stream",
     "text": [
      "{}\n",
      "<class 'dict'>\n",
      "0\n"
     ]
    }
   ],
   "source": [
    "def myfunc(**a):\n",
    "    print(a)\n",
    "    print(type(a))\n",
    "    print(len(a))\n",
    "myfunc()"
   ]
  },
  {
   "cell_type": "code",
   "execution_count": 5,
   "metadata": {},
   "outputs": [
    {
     "ename": "TypeError",
     "evalue": "myfunc() takes 0 positional arguments but 3 were given",
     "output_type": "error",
     "traceback": [
      "\u001b[1;31m---------------------------------------------------------------------------\u001b[0m",
      "\u001b[1;31mTypeError\u001b[0m                                 Traceback (most recent call last)",
      "\u001b[1;32m<ipython-input-5-c83c9d6fda24>\u001b[0m in \u001b[0;36m<module>\u001b[1;34m()\u001b[0m\n\u001b[0;32m      3\u001b[0m     \u001b[0mprint\u001b[0m\u001b[1;33m(\u001b[0m\u001b[0mtype\u001b[0m\u001b[1;33m(\u001b[0m\u001b[0ma\u001b[0m\u001b[1;33m)\u001b[0m\u001b[1;33m)\u001b[0m\u001b[1;33m\u001b[0m\u001b[0m\n\u001b[0;32m      4\u001b[0m     \u001b[0mprint\u001b[0m\u001b[1;33m(\u001b[0m\u001b[0mlen\u001b[0m\u001b[1;33m(\u001b[0m\u001b[0ma\u001b[0m\u001b[1;33m)\u001b[0m\u001b[1;33m)\u001b[0m\u001b[1;33m\u001b[0m\u001b[0m\n\u001b[1;32m----> 5\u001b[1;33m \u001b[0mmyfunc\u001b[0m\u001b[1;33m(\u001b[0m\u001b[1;36m10\u001b[0m\u001b[1;33m,\u001b[0m\u001b[1;36m20\u001b[0m\u001b[1;33m,\u001b[0m\u001b[1;36m30\u001b[0m\u001b[1;33m)\u001b[0m\u001b[1;33m\u001b[0m\u001b[0m\n\u001b[0m",
      "\u001b[1;31mTypeError\u001b[0m: myfunc() takes 0 positional arguments but 3 were given"
     ]
    }
   ],
   "source": [
    "def myfunc(**a):\n",
    "    print(a)\n",
    "    print(type(a))\n",
    "    print(len(a))\n",
    "myfunc(10,20,30)"
   ]
  },
  {
   "cell_type": "markdown",
   "metadata": {},
   "source": [
    "### Arguments:\n",
    "\n",
    "    -The value which are passing through the parameters of a function,at the time of calling the function are known as 'Arguments'.\n",
    "    \n",
    "    -We can pass ,two types of arguments to the parameters of a function.\n",
    "#### 1).Non-keyword Arguments.\n",
    "#### 2).Keyword Arguments.\n",
    "\n",
    "### Non-Keyword Arguments:\n",
    "\n",
    "    -The arguments ,which we are passing directly ,without assigning to parameters names ,are known as 'Non-Keyword arguments' or 'Positional arguments'.\n",
    "       "
   ]
  },
  {
   "cell_type": "code",
   "execution_count": 9,
   "metadata": {},
   "outputs": [
    {
     "name": "stdout",
     "output_type": "stream",
     "text": [
      "hi Colt Good Evening\n",
      "hi Good Morning Smith\n"
     ]
    }
   ],
   "source": [
    "def greet(name,msg):\n",
    "    print('hi',name,msg)\n",
    "greet('Colt','Good Evening')\n",
    "greet('Good Morning', 'Smith')"
   ]
  },
  {
   "cell_type": "markdown",
   "metadata": {},
   "source": [
    "### Key-word Arguments:\n",
    "\n",
    "     -The arguemts,which we are passing ,by assigning to the parameters names ,are known as 'Keyword arguments'"
   ]
  },
  {
   "cell_type": "code",
   "execution_count": 8,
   "metadata": {},
   "outputs": [
    {
     "name": "stdout",
     "output_type": "stream",
     "text": [
      "hi Colt Good Evening\n",
      "hi Smith Good Morning\n"
     ]
    }
   ],
   "source": [
    "def greet(name,msg):\n",
    "    print('hi',name,msg)\n",
    "greet(name='Colt',msg='Good Evening')\n",
    "greet(msg='Good Morning', name='Smith')"
   ]
  },
  {
   "cell_type": "markdown",
   "metadata": {},
   "source": [
    "#### After passing the keyword argument ,we are not allowed to pass,Non-keyword Argument,other-wise we'll get syntax error."
   ]
  },
  {
   "cell_type": "code",
   "execution_count": 10,
   "metadata": {},
   "outputs": [
    {
     "ename": "SyntaxError",
     "evalue": "positional argument follows keyword argument (<ipython-input-10-20857de9ea43>, line 4)",
     "output_type": "error",
     "traceback": [
      "\u001b[1;36m  File \u001b[1;32m\"<ipython-input-10-20857de9ea43>\"\u001b[1;36m, line \u001b[1;32m4\u001b[0m\n\u001b[1;33m    greet(msg='Good Morning','Smith')\u001b[0m\n\u001b[1;37m                            ^\u001b[0m\n\u001b[1;31mSyntaxError\u001b[0m\u001b[1;31m:\u001b[0m positional argument follows keyword argument\n"
     ]
    }
   ],
   "source": [
    "def greet(name,msg):\n",
    "    print('hi',name,msg)\n",
    "greet(name='Colt',msg='Good Evening')\n",
    "greet(msg='Good Morning','Smith')"
   ]
  },
  {
   "cell_type": "markdown",
   "metadata": {},
   "source": [
    "#### If a function contains ,multi-star arbitary parameter,we have to pass the keyword arguments,at the time of calling that function."
   ]
  },
  {
   "cell_type": "code",
   "execution_count": 11,
   "metadata": {},
   "outputs": [
    {
     "name": "stdout",
     "output_type": "stream",
     "text": [
      "{'a': 10, 'b': 20, 'c': 30}\n",
      "<class 'dict'>\n",
      "3\n"
     ]
    }
   ],
   "source": [
    "def myfunc(**a):\n",
    "    print(a)\n",
    "    print(type(a))\n",
    "    print(len(a))\n",
    "myfunc(a=10,b=20,c=30)"
   ]
  },
  {
   "cell_type": "markdown",
   "metadata": {},
   "source": [
    "### Documentation string:\n",
    "\n",
    "    -Documentation string of a function is used to provide,description about the function.\n",
    "    \n",
    "    -Whenever ,we call help function,on a function,then it will display the documentation string of that function.\n",
    "    \n",
    "    -within the function syntax ,documentation string is optional,but it is highly recommended to define the same within the function."
   ]
  },
  {
   "cell_type": "code",
   "execution_count": 12,
   "metadata": {},
   "outputs": [
    {
     "name": "stdout",
     "output_type": "stream",
     "text": [
      "Python is aweosome\n",
      "Help on function myfunc in module __main__:\n",
      "\n",
      "myfunc()\n",
      "    sample function to test documentation str\n",
      "\n"
     ]
    }
   ],
   "source": [
    "def myfunc():\n",
    "    \"\"\"sample function to test documentation str\"\"\"\n",
    "    print('Python is aweosome')\n",
    "myfunc()\n",
    "help(myfunc)"
   ]
  },
  {
   "cell_type": "markdown",
   "metadata": {},
   "source": [
    "### Return statement:\n",
    "\n",
    "    -    if the function is returning a value,we can store value in a variable,and we can use that variable in the rest of the programme.\n",
    "    -if we are not storeing return ,value of a function into a variable,then that value will became as garbage collector.\n",
    "    \n",
    "    -control,will comes out from the function execution,whenever control reach to the return statement.\n",
    "    \n",
    "    -we can define n number of return statements in a function.\n",
    "    \n",
    "    -even though we,define n number of return statements,only one return statement will be executed at a time.\n",
    "    \n",
    "    \n"
   ]
  },
  {
   "cell_type": "code",
   "execution_count": 1,
   "metadata": {},
   "outputs": [
    {
     "name": "stdout",
     "output_type": "stream",
     "text": [
      "300\n"
     ]
    },
    {
     "data": {
      "text/plain": [
       "579"
      ]
     },
     "execution_count": 1,
     "metadata": {},
     "output_type": "execute_result"
    }
   ],
   "source": [
    "def add(a,b):\n",
    "    c = a+b\n",
    "    return c\n",
    "p=add(100,200)\n",
    "print(p)\n",
    "add(123,456)"
   ]
  },
  {
   "cell_type": "markdown",
   "metadata": {},
   "source": [
    "#### Whenever control reach to return statement of a function ,then control will comes out from function execution,without executing remaining statements of that function."
   ]
  },
  {
   "cell_type": "code",
   "execution_count": 3,
   "metadata": {},
   "outputs": [
    {
     "name": "stdout",
     "output_type": "stream",
     "text": [
      "20\n",
      "10\n"
     ]
    }
   ],
   "source": [
    "def absolute(a):\n",
    "    if a<=0:\n",
    "        return -a\n",
    "    else:\n",
    "        return a\n",
    "    print(\"end\")\n",
    "p=absolute(-20)\n",
    "print(p)\n",
    "q=absolute(10)\n",
    "print(q)"
   ]
  },
  {
   "cell_type": "markdown",
   "metadata": {},
   "source": [
    "####   whether ,we define return statement ,explicitely or not ,inside our function,then by default,one return statement will be added to at the end of every function.\n",
    "\n",
    "    -if we define return statement explicitly or even though the return statement is defined is defined explicitly,if the control is not reaching to the return statement,then by default,deault return statement will be executed.\n",
    "    \n",
    "    -Default return statement will return the default value called 'None'."
   ]
  },
  {
   "cell_type": "code",
   "execution_count": 4,
   "metadata": {},
   "outputs": [
    {
     "name": "stdout",
     "output_type": "stream",
     "text": [
      "begin\n",
      "300\n",
      "None\n",
      "end\n"
     ]
    }
   ],
   "source": [
    "print('begin')\n",
    "def add(a,b):\n",
    "    c=a+b\n",
    "    print(c)\n",
    "p=add(100,200)\n",
    "print(p)\n",
    "print('end')"
   ]
  },
  {
   "cell_type": "markdown",
   "metadata": {},
   "source": [
    "### Global Varables:\n",
    "    \n",
    "    -the variables which are declared within the programme,outside of all the functions ,are known as global variables.\n",
    "    \n",
    "    -For all the global variable of a programme,memory will be allocated,only once.\n",
    "    \n",
    "    -Global variables of one programme can be accessed in all the functions of same programme.\n",
    "    \n",
    "### Local Variables:\n",
    "\n",
    "    -The variables ,which are declared within a function body are known as Local variables.\n",
    "    \n",
    "    -For all the local variables of a function,memory will be allocated,whenever ,ew make a function call.\n",
    "    \n",
    "    -Local variable of one function can't be accessible from the ouside of the function."
   ]
  },
  {
   "cell_type": "code",
   "execution_count": 5,
   "metadata": {},
   "outputs": [
    {
     "name": "stdout",
     "output_type": "stream",
     "text": [
      "1000\n",
      "2000\n",
      "3000\n",
      "4000\n",
      "1000\n",
      "2000\n",
      "None\n",
      "10\n",
      "5000\n",
      "6000\n"
     ]
    }
   ],
   "source": [
    "a=1000\n",
    "b=2000\n",
    "def f1():\n",
    "    p=3000\n",
    "    q=4000\n",
    "    print(a)\n",
    "    print(b)\n",
    "    print(p)\n",
    "    print(q)\n",
    "def f2():\n",
    "    x=5000\n",
    "    y=6000\n",
    "    print(a)\n",
    "    print(b)\n",
    "    print(p)\n",
    "    print(q)\n",
    "    print(x)\n",
    "    print(y)\n",
    "f1()\n",
    "f2()"
   ]
  },
  {
   "cell_type": "code",
   "execution_count": 6,
   "metadata": {},
   "outputs": [
    {
     "name": "stdout",
     "output_type": "stream",
     "text": [
      "2000\n",
      "1000\n"
     ]
    }
   ],
   "source": [
    "a=1000     #global variable\n",
    "def f1():\n",
    "    a=2000    #local variable\n",
    "    print(a)\n",
    "def f2():\n",
    "    print(a)\n",
    "f1()\n",
    "f2()"
   ]
  },
  {
   "cell_type": "code",
   "execution_count": 7,
   "metadata": {},
   "outputs": [
    {
     "name": "stdout",
     "output_type": "stream",
     "text": [
      "2000\n",
      "2000\n"
     ]
    }
   ],
   "source": [
    "a=1000\n",
    "def f1():\n",
    "    global a  #to call global variable explicitly\n",
    "    a=2000\n",
    "    print(a)\n",
    "def f2():\n",
    "    print(a)\n",
    "f1()\n",
    "f2()"
   ]
  },
  {
   "cell_type": "markdown",
   "metadata": {},
   "source": []
  },
  {
   "cell_type": "markdown",
   "metadata": {},
   "source": [
    "### Dictionary comprehension:\n",
    "\n",
    "    -The concept of generating items into the dictionary by writting some logic in the dictionary is knwon as a dictionary comprehension.\n",
    "    "
   ]
  },
  {
   "cell_type": "code",
   "execution_count": 1,
   "metadata": {},
   "outputs": [
    {
     "name": "stdout",
     "output_type": "stream",
     "text": [
      "{1: 1, 2: 4, 3: 9, 4: 16, 5: 25}\n"
     ]
    }
   ],
   "source": [
    "x = {p:p*p for p in range(1,6)}\n",
    "print (x)"
   ]
  },
  {
   "cell_type": "code",
   "execution_count": 3,
   "metadata": {},
   "outputs": [
    {
     "name": "stdout",
     "output_type": "stream",
     "text": [
      "{2: 4, 4: 256, 6: 46656, 8: 16777216}\n"
     ]
    }
   ],
   "source": [
    "y = {q:q**q for q in range(1,10) if q%2==0}\n",
    "print (y)"
   ]
  },
  {
   "cell_type": "code",
   "execution_count": 4,
   "metadata": {},
   "outputs": [
    {
     "name": "stdout",
     "output_type": "stream",
     "text": [
      "{11: 121, 13: 169, 15: 225, 17: 289, 19: 361}\n"
     ]
    }
   ],
   "source": [
    "z = {r:r**2 for r in range(10,20) if r%2!=0}\n",
    "print (z)"
   ]
  }
 ],
 "metadata": {
  "kernelspec": {
   "display_name": "Python 3",
   "language": "python",
   "name": "python3"
  },
  "language_info": {
   "codemirror_mode": {
    "name": "ipython",
    "version": 3
   },
   "file_extension": ".py",
   "mimetype": "text/x-python",
   "name": "python",
   "nbconvert_exporter": "python",
   "pygments_lexer": "ipython3",
   "version": "3.6.5"
  }
 },
 "nbformat": 4,
 "nbformat_minor": 2
}
