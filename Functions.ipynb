{
 "cells": [
  {
   "cell_type": "markdown",
   "metadata": {},
   "source": [
    "### Function:\n",
    "\n",
    "    -Function is a syntax or structure is used to represent bussiness logic to perform the operations.\n",
    "    \n",
    "    -For every function,internally one object is created and that object address will be stored to the function name variable.\n",
    "    \n",
    "    -the address of the function object which is present inside function name variable can be copied into the other variables.\n",
    "    \n",
    "    -Function is not executed automatically.\n",
    "    \n",
    "    -Function will be executed,whenever we make a function call.\n",
    "    \n",
    "    -Function can be called through any variable ,which is stored in the address of the function object."
   ]
  },
  {
   "cell_type": "code",
   "execution_count": 5,
   "metadata": {},
   "outputs": [
    {
     "name": "stdout",
     "output_type": "stream",
     "text": [
      "begin\n",
      "<function myfunc at 0x000001E66FC4DB70>\n",
      "welcome\n",
      "<function myfunc at 0x000001E66FC4DB70>\n",
      "welcome\n",
      "end\n"
     ]
    }
   ],
   "source": [
    "print('begin')\n",
    "def myfunc():\n",
    "    print('welcome')\n",
    "print(myfunc)\n",
    "myfunc()\n",
    "myvar= myfunc\n",
    "print(myvar)\n",
    "myvar()\n",
    "print('end')"
   ]
  },
  {
   "cell_type": "code",
   "execution_count": null,
   "metadata": {},
   "outputs": [],
   "source": [
    "def functionname(var1,var2,......varn):   #var1,var2,varn => parameters\n",
    "    \"\"\"doc str\"\"\"\n",
    "    #some bussiness logic\n",
    "    [return value]"
   ]
  },
  {
   "cell_type": "markdown",
   "metadata": {},
   "source": [
    "### Parameters\n",
    "    -the variables which are declared within the function decleration are knwon as parameters.\n",
    "    \n",
    "    -Parameters of a function ,can be accessed only within that function.\n",
    "    \n",
    "    -We can define three types of parameters for the functions in Python language.\n",
    "    \n",
    "#### 1) Non-default Parameters\n",
    "\n",
    "#### 2) Default Parameters\n",
    "\n",
    "#### 3) Arbitary Parameters\n"
   ]
  },
  {
   "cell_type": "markdown",
   "metadata": {},
   "source": [
    "#### Non-default Parameters:\n",
    "\n",
    "     -The parameters which are declared ,without assigning any values are known as non-default.\n",
    "     \n",
    "     -At the time of calling the function,we should pass the values to the non default parameters,otherwise,we'll get the error."
   ]
  },
  {
   "cell_type": "code",
   "execution_count": 6,
   "metadata": {},
   "outputs": [
    {
     "name": "stdout",
     "output_type": "stream",
     "text": [
      "600\n",
      "3000\n",
      "579\n"
     ]
    }
   ],
   "source": [
    "def add(a,b):\n",
    "    c=a+b\n",
    "    print(c)\n",
    "add(100,500)\n",
    "add(1000,2000)\n",
    "add(123,456)"
   ]
  },
  {
   "cell_type": "markdown",
   "metadata": {},
   "source": [
    "### Default Parameters:\n",
    "       \n",
    "       -The Parameters ,which are declared ,by assigning some values ,are known as default parameters.\n",
    "       \n",
    "       -At the time of calling the function,we need not to pass the values to the default parameters."
   ]
  },
  {
   "cell_type": "code",
   "execution_count": 7,
   "metadata": {},
   "outputs": [
    {
     "name": "stdout",
     "output_type": "stream",
     "text": [
      "30\n",
      "3000\n",
      "579\n"
     ]
    }
   ],
   "source": [
    "def add(a=10,b=20):\n",
    "    c=a+b\n",
    "    print(c)\n",
    "add()\n",
    "add(1000,2000)\n",
    "add(123,456)"
   ]
  },
  {
   "cell_type": "code",
   "execution_count": 8,
   "metadata": {},
   "outputs": [
    {
     "name": "stdout",
     "output_type": "stream",
     "text": [
      "1020\n",
      "579\n"
     ]
    }
   ],
   "source": [
    "def add(a,b=20):\n",
    "    c=a+b\n",
    "    print(c)\n",
    "\n",
    "add(1000)\n",
    "add(123,456)"
   ]
  },
  {
   "cell_type": "markdown",
   "metadata": {},
   "source": [
    "#### After defining the default parameters,we are not allowed to define non-default parameters,other-wise we'll get syntax error"
   ]
  },
  {
   "cell_type": "code",
   "execution_count": 9,
   "metadata": {},
   "outputs": [
    {
     "ename": "SyntaxError",
     "evalue": "non-default argument follows default argument (<ipython-input-9-cbf55b4f94cc>, line 1)",
     "output_type": "error",
     "traceback": [
      "\u001b[1;36m  File \u001b[1;32m\"<ipython-input-9-cbf55b4f94cc>\"\u001b[1;36m, line \u001b[1;32m1\u001b[0m\n\u001b[1;33m    def add(a=10,b):\u001b[0m\n\u001b[1;37m           ^\u001b[0m\n\u001b[1;31mSyntaxError\u001b[0m\u001b[1;31m:\u001b[0m non-default argument follows default argument\n"
     ]
    }
   ],
   "source": [
    "def add(a=10,b):\n",
    "    c=a+b\n",
    "    print(c)\n",
    "\n",
    "add(1000)\n",
    "add(123,456)"
   ]
  },
  {
   "cell_type": "markdown",
   "metadata": {},
   "source": [
    "### Arbitary Parameters:\n",
    "\n",
    "    -Any parameter,which is preceded by single-star(\"*\") or multi-star is known as a Arbitary parameter.\n",
    "    \n",
    "    -Single-star arbitary parameter parameter type ,is taken as a 'Tuple'.\n",
    "    \n",
    "    -At the time of calling the function ,we can pass zero or more values to the 'single-star' arbitary parameter."
   ]
  },
  {
   "cell_type": "code",
   "execution_count": 11,
   "metadata": {},
   "outputs": [
    {
     "name": "stdout",
     "output_type": "stream",
     "text": [
      "()\n",
      "<class 'tuple'>\n",
      "0\n",
      "0\n",
      "(1000,)\n",
      "<class 'tuple'>\n",
      "1\n",
      "1000\n",
      "(123, 456)\n",
      "<class 'tuple'>\n",
      "2\n",
      "579\n"
     ]
    }
   ],
   "source": [
    "def add(*a):\n",
    "    print(a)\n",
    "    print(type(a))\n",
    "    print(len(a))\n",
    "    s=0\n",
    "    for p in a:\n",
    "        s=s+p\n",
    "    print(s)\n",
    "add()\n",
    "add(1000)\n",
    "add(123,456)"
   ]
  },
  {
   "cell_type": "markdown",
   "metadata": {},
   "source": [
    "### Dictionary comprehension:\n",
    "\n",
    "    -The concept of generating items into the dictionary by writting some logic in the dictionary is knwon as a dictionary comprehension.\n",
    "    "
   ]
  },
  {
   "cell_type": "code",
   "execution_count": 1,
   "metadata": {},
   "outputs": [
    {
     "name": "stdout",
     "output_type": "stream",
     "text": [
      "{1: 1, 2: 4, 3: 9, 4: 16, 5: 25}\n"
     ]
    }
   ],
   "source": [
    "x = {p:p*p for p in range(1,6)}\n",
    "print (x)"
   ]
  },
  {
   "cell_type": "code",
   "execution_count": 3,
   "metadata": {},
   "outputs": [
    {
     "name": "stdout",
     "output_type": "stream",
     "text": [
      "{2: 4, 4: 256, 6: 46656, 8: 16777216}\n"
     ]
    }
   ],
   "source": [
    "y = {q:q**q for q in range(1,10) if q%2==0}\n",
    "print (y)"
   ]
  },
  {
   "cell_type": "code",
   "execution_count": 4,
   "metadata": {},
   "outputs": [
    {
     "name": "stdout",
     "output_type": "stream",
     "text": [
      "{11: 121, 13: 169, 15: 225, 17: 289, 19: 361}\n"
     ]
    }
   ],
   "source": [
    "z = {r:r**2 for r in range(10,20) if r%2!=0}\n",
    "print (z)"
   ]
  }
 ],
 "metadata": {
  "kernelspec": {
   "display_name": "Python 3",
   "language": "python",
   "name": "python3"
  },
  "language_info": {
   "codemirror_mode": {
    "name": "ipython",
    "version": 3
   },
   "file_extension": ".py",
   "mimetype": "text/x-python",
   "name": "python",
   "nbconvert_exporter": "python",
   "pygments_lexer": "ipython3",
   "version": "3.6.5"
  }
 },
 "nbformat": 4,
 "nbformat_minor": 2
}
